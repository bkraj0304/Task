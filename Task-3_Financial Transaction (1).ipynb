{
 "cells": [
  {
   "cell_type": "markdown",
   "id": "84da20f5",
   "metadata": {},
   "source": [
    "# IMPORTING LIBRARIES"
   ]
  },
  {
   "cell_type": "code",
   "execution_count": 55,
   "id": "601b30d4",
   "metadata": {},
   "outputs": [],
   "source": [
    "import pandas as pd\n",
    "import numpy as np\n",
    "from scipy.stats import zscore\n",
    "import matplotlib.pyplot as plt\n",
    "import seaborn as sns"
   ]
  },
  {
   "cell_type": "markdown",
   "id": "71a8ab0f",
   "metadata": {},
   "source": [
    "# Reading Dataset"
   ]
  },
  {
   "cell_type": "code",
   "execution_count": 22,
   "id": "fe6c2891",
   "metadata": {},
   "outputs": [],
   "source": [
    "# Define the dataset\n",
    "data = {\n",
    "    'transaction_id': ['TRX001', 'TRX002', 'TRX003', 'TRX004', 'TRX005', 'TRX006', 'TRX007'],\n",
    "    'date': ['2024-06-01', '2024-06-01', '2024-06-01', '2024-06-02', '2024-06-02', '2024-06-03', '2024-06-03'],\n",
    "    'category': ['Food', 'Utilities', 'Entertainment', 'Food', 'Transport', 'Utilities', 'Food'],\n",
    "    'amount': [25.00, 150.00, 200.00, 3000.00, 45.00, 135.00, 20.00]\n",
    "}"
   ]
  },
  {
   "cell_type": "code",
   "execution_count": 57,
   "id": "9bd1610f",
   "metadata": {},
   "outputs": [],
   "source": [
    "df.head()# Convert to DataFrame\n",
    "df = pd.DataFrame(data)"
   ]
  },
  {
   "cell_type": "markdown",
   "id": "038008f1",
   "metadata": {},
   "source": [
    "# Analyzing Data"
   ]
  },
  {
   "cell_type": "code",
   "execution_count": 25,
   "id": "672f9d66",
   "metadata": {},
   "outputs": [
    {
     "data": {
      "text/html": [
       "<div>\n",
       "<style scoped>\n",
       "    .dataframe tbody tr th:only-of-type {\n",
       "        vertical-align: middle;\n",
       "    }\n",
       "\n",
       "    .dataframe tbody tr th {\n",
       "        vertical-align: top;\n",
       "    }\n",
       "\n",
       "    .dataframe thead th {\n",
       "        text-align: right;\n",
       "    }\n",
       "</style>\n",
       "<table border=\"1\" class=\"dataframe\">\n",
       "  <thead>\n",
       "    <tr style=\"text-align: right;\">\n",
       "      <th></th>\n",
       "      <th>transaction_id</th>\n",
       "      <th>date</th>\n",
       "      <th>category</th>\n",
       "      <th>amount</th>\n",
       "    </tr>\n",
       "  </thead>\n",
       "  <tbody>\n",
       "    <tr>\n",
       "      <th>0</th>\n",
       "      <td>TRX001</td>\n",
       "      <td>2024-06-01</td>\n",
       "      <td>Food</td>\n",
       "      <td>25.0</td>\n",
       "    </tr>\n",
       "    <tr>\n",
       "      <th>1</th>\n",
       "      <td>TRX002</td>\n",
       "      <td>2024-06-01</td>\n",
       "      <td>Utilities</td>\n",
       "      <td>150.0</td>\n",
       "    </tr>\n",
       "    <tr>\n",
       "      <th>2</th>\n",
       "      <td>TRX003</td>\n",
       "      <td>2024-06-01</td>\n",
       "      <td>Entertainment</td>\n",
       "      <td>200.0</td>\n",
       "    </tr>\n",
       "    <tr>\n",
       "      <th>3</th>\n",
       "      <td>TRX004</td>\n",
       "      <td>2024-06-02</td>\n",
       "      <td>Food</td>\n",
       "      <td>3000.0</td>\n",
       "    </tr>\n",
       "    <tr>\n",
       "      <th>4</th>\n",
       "      <td>TRX005</td>\n",
       "      <td>2024-06-02</td>\n",
       "      <td>Transport</td>\n",
       "      <td>45.0</td>\n",
       "    </tr>\n",
       "  </tbody>\n",
       "</table>\n",
       "</div>"
      ],
      "text/plain": [
       "  transaction_id        date       category  amount\n",
       "0         TRX001  2024-06-01           Food    25.0\n",
       "1         TRX002  2024-06-01      Utilities   150.0\n",
       "2         TRX003  2024-06-01  Entertainment   200.0\n",
       "3         TRX004  2024-06-02           Food  3000.0\n",
       "4         TRX005  2024-06-02      Transport    45.0"
      ]
     },
     "execution_count": 25,
     "metadata": {},
     "output_type": "execute_result"
    }
   ],
   "source": [
    "df.head()"
   ]
  },
  {
   "cell_type": "code",
   "execution_count": 26,
   "id": "ce18b3a9",
   "metadata": {},
   "outputs": [
    {
     "name": "stdout",
     "output_type": "stream",
     "text": [
      "<class 'pandas.core.frame.DataFrame'>\n",
      "RangeIndex: 7 entries, 0 to 6\n",
      "Data columns (total 4 columns):\n",
      " #   Column          Non-Null Count  Dtype  \n",
      "---  ------          --------------  -----  \n",
      " 0   transaction_id  7 non-null      object \n",
      " 1   date            7 non-null      object \n",
      " 2   category        7 non-null      object \n",
      " 3   amount          7 non-null      float64\n",
      "dtypes: float64(1), object(3)\n",
      "memory usage: 352.0+ bytes\n"
     ]
    }
   ],
   "source": [
    "df.info()"
   ]
  },
  {
   "cell_type": "code",
   "execution_count": 58,
   "id": "eda23dcc",
   "metadata": {},
   "outputs": [
    {
     "data": {
      "text/html": [
       "<div>\n",
       "<style scoped>\n",
       "    .dataframe tbody tr th:only-of-type {\n",
       "        vertical-align: middle;\n",
       "    }\n",
       "\n",
       "    .dataframe tbody tr th {\n",
       "        vertical-align: top;\n",
       "    }\n",
       "\n",
       "    .dataframe thead th {\n",
       "        text-align: right;\n",
       "    }\n",
       "</style>\n",
       "<table border=\"1\" class=\"dataframe\">\n",
       "  <thead>\n",
       "    <tr style=\"text-align: right;\">\n",
       "      <th></th>\n",
       "      <th>transaction_id</th>\n",
       "      <th>date</th>\n",
       "      <th>category</th>\n",
       "      <th>amount</th>\n",
       "    </tr>\n",
       "  </thead>\n",
       "  <tbody>\n",
       "    <tr>\n",
       "      <th>0</th>\n",
       "      <td>False</td>\n",
       "      <td>False</td>\n",
       "      <td>False</td>\n",
       "      <td>False</td>\n",
       "    </tr>\n",
       "    <tr>\n",
       "      <th>1</th>\n",
       "      <td>False</td>\n",
       "      <td>False</td>\n",
       "      <td>False</td>\n",
       "      <td>False</td>\n",
       "    </tr>\n",
       "    <tr>\n",
       "      <th>2</th>\n",
       "      <td>False</td>\n",
       "      <td>False</td>\n",
       "      <td>False</td>\n",
       "      <td>False</td>\n",
       "    </tr>\n",
       "    <tr>\n",
       "      <th>3</th>\n",
       "      <td>False</td>\n",
       "      <td>False</td>\n",
       "      <td>False</td>\n",
       "      <td>False</td>\n",
       "    </tr>\n",
       "    <tr>\n",
       "      <th>4</th>\n",
       "      <td>False</td>\n",
       "      <td>False</td>\n",
       "      <td>False</td>\n",
       "      <td>False</td>\n",
       "    </tr>\n",
       "    <tr>\n",
       "      <th>5</th>\n",
       "      <td>False</td>\n",
       "      <td>False</td>\n",
       "      <td>False</td>\n",
       "      <td>False</td>\n",
       "    </tr>\n",
       "    <tr>\n",
       "      <th>6</th>\n",
       "      <td>False</td>\n",
       "      <td>False</td>\n",
       "      <td>False</td>\n",
       "      <td>False</td>\n",
       "    </tr>\n",
       "  </tbody>\n",
       "</table>\n",
       "</div>"
      ],
      "text/plain": [
       "   transaction_id   date  category  amount\n",
       "0           False  False     False   False\n",
       "1           False  False     False   False\n",
       "2           False  False     False   False\n",
       "3           False  False     False   False\n",
       "4           False  False     False   False\n",
       "5           False  False     False   False\n",
       "6           False  False     False   False"
      ]
     },
     "execution_count": 58,
     "metadata": {},
     "output_type": "execute_result"
    }
   ],
   "source": [
    "df.isnull()"
   ]
  },
  {
   "cell_type": "markdown",
   "id": "2ccf9f36",
   "metadata": {},
   "source": [
    "# DATA CLEANING"
   ]
  },
  {
   "cell_type": "code",
   "execution_count": 28,
   "id": "8a6731d6",
   "metadata": {},
   "outputs": [],
   "source": [
    "# Check for missing values\n",
    "missing_values = df.isnull().sum()\n",
    "if missing_values.any():\n",
    "    df = df.dropna() "
   ]
  },
  {
   "cell_type": "code",
   "execution_count": 29,
   "id": "a65c5f8f",
   "metadata": {},
   "outputs": [
    {
     "data": {
      "text/html": [
       "<div>\n",
       "<style scoped>\n",
       "    .dataframe tbody tr th:only-of-type {\n",
       "        vertical-align: middle;\n",
       "    }\n",
       "\n",
       "    .dataframe tbody tr th {\n",
       "        vertical-align: top;\n",
       "    }\n",
       "\n",
       "    .dataframe thead th {\n",
       "        text-align: right;\n",
       "    }\n",
       "</style>\n",
       "<table border=\"1\" class=\"dataframe\">\n",
       "  <thead>\n",
       "    <tr style=\"text-align: right;\">\n",
       "      <th></th>\n",
       "      <th>transaction_id</th>\n",
       "      <th>date</th>\n",
       "      <th>category</th>\n",
       "      <th>amount</th>\n",
       "    </tr>\n",
       "  </thead>\n",
       "  <tbody>\n",
       "    <tr>\n",
       "      <th>0</th>\n",
       "      <td>TRX001</td>\n",
       "      <td>2024-06-01</td>\n",
       "      <td>Food</td>\n",
       "      <td>25.0</td>\n",
       "    </tr>\n",
       "    <tr>\n",
       "      <th>1</th>\n",
       "      <td>TRX002</td>\n",
       "      <td>2024-06-01</td>\n",
       "      <td>Utilities</td>\n",
       "      <td>150.0</td>\n",
       "    </tr>\n",
       "    <tr>\n",
       "      <th>2</th>\n",
       "      <td>TRX003</td>\n",
       "      <td>2024-06-01</td>\n",
       "      <td>Entertainment</td>\n",
       "      <td>200.0</td>\n",
       "    </tr>\n",
       "    <tr>\n",
       "      <th>3</th>\n",
       "      <td>TRX004</td>\n",
       "      <td>2024-06-02</td>\n",
       "      <td>Food</td>\n",
       "      <td>3000.0</td>\n",
       "    </tr>\n",
       "    <tr>\n",
       "      <th>4</th>\n",
       "      <td>TRX005</td>\n",
       "      <td>2024-06-02</td>\n",
       "      <td>Transport</td>\n",
       "      <td>45.0</td>\n",
       "    </tr>\n",
       "    <tr>\n",
       "      <th>5</th>\n",
       "      <td>TRX006</td>\n",
       "      <td>2024-06-03</td>\n",
       "      <td>Utilities</td>\n",
       "      <td>135.0</td>\n",
       "    </tr>\n",
       "    <tr>\n",
       "      <th>6</th>\n",
       "      <td>TRX007</td>\n",
       "      <td>2024-06-03</td>\n",
       "      <td>Food</td>\n",
       "      <td>20.0</td>\n",
       "    </tr>\n",
       "  </tbody>\n",
       "</table>\n",
       "</div>"
      ],
      "text/plain": [
       "  transaction_id        date       category  amount\n",
       "0         TRX001  2024-06-01           Food    25.0\n",
       "1         TRX002  2024-06-01      Utilities   150.0\n",
       "2         TRX003  2024-06-01  Entertainment   200.0\n",
       "3         TRX004  2024-06-02           Food  3000.0\n",
       "4         TRX005  2024-06-02      Transport    45.0\n",
       "5         TRX006  2024-06-03      Utilities   135.0\n",
       "6         TRX007  2024-06-03           Food    20.0"
      ]
     },
     "execution_count": 29,
     "metadata": {},
     "output_type": "execute_result"
    }
   ],
   "source": [
    "df"
   ]
  },
  {
   "cell_type": "code",
   "execution_count": 30,
   "id": "b7542b75",
   "metadata": {},
   "outputs": [
    {
     "data": {
      "text/html": [
       "<div>\n",
       "<style scoped>\n",
       "    .dataframe tbody tr th:only-of-type {\n",
       "        vertical-align: middle;\n",
       "    }\n",
       "\n",
       "    .dataframe tbody tr th {\n",
       "        vertical-align: top;\n",
       "    }\n",
       "\n",
       "    .dataframe thead th {\n",
       "        text-align: right;\n",
       "    }\n",
       "</style>\n",
       "<table border=\"1\" class=\"dataframe\">\n",
       "  <thead>\n",
       "    <tr style=\"text-align: right;\">\n",
       "      <th></th>\n",
       "      <th>transaction_id</th>\n",
       "      <th>date</th>\n",
       "      <th>category</th>\n",
       "      <th>amount</th>\n",
       "    </tr>\n",
       "  </thead>\n",
       "  <tbody>\n",
       "    <tr>\n",
       "      <th>0</th>\n",
       "      <td>TRX001</td>\n",
       "      <td>2024-06-01</td>\n",
       "      <td>Food</td>\n",
       "      <td>25.0</td>\n",
       "    </tr>\n",
       "    <tr>\n",
       "      <th>1</th>\n",
       "      <td>TRX002</td>\n",
       "      <td>2024-06-01</td>\n",
       "      <td>Utilities</td>\n",
       "      <td>150.0</td>\n",
       "    </tr>\n",
       "    <tr>\n",
       "      <th>2</th>\n",
       "      <td>TRX003</td>\n",
       "      <td>2024-06-01</td>\n",
       "      <td>Entertainment</td>\n",
       "      <td>200.0</td>\n",
       "    </tr>\n",
       "    <tr>\n",
       "      <th>3</th>\n",
       "      <td>TRX004</td>\n",
       "      <td>2024-06-02</td>\n",
       "      <td>Food</td>\n",
       "      <td>3000.0</td>\n",
       "    </tr>\n",
       "    <tr>\n",
       "      <th>4</th>\n",
       "      <td>TRX005</td>\n",
       "      <td>2024-06-02</td>\n",
       "      <td>Transport</td>\n",
       "      <td>45.0</td>\n",
       "    </tr>\n",
       "    <tr>\n",
       "      <th>5</th>\n",
       "      <td>TRX006</td>\n",
       "      <td>2024-06-03</td>\n",
       "      <td>Utilities</td>\n",
       "      <td>135.0</td>\n",
       "    </tr>\n",
       "    <tr>\n",
       "      <th>6</th>\n",
       "      <td>TRX007</td>\n",
       "      <td>2024-06-03</td>\n",
       "      <td>Food</td>\n",
       "      <td>20.0</td>\n",
       "    </tr>\n",
       "  </tbody>\n",
       "</table>\n",
       "</div>"
      ],
      "text/plain": [
       "  transaction_id        date       category  amount\n",
       "0         TRX001  2024-06-01           Food    25.0\n",
       "1         TRX002  2024-06-01      Utilities   150.0\n",
       "2         TRX003  2024-06-01  Entertainment   200.0\n",
       "3         TRX004  2024-06-02           Food  3000.0\n",
       "4         TRX005  2024-06-02      Transport    45.0\n",
       "5         TRX006  2024-06-03      Utilities   135.0\n",
       "6         TRX007  2024-06-03           Food    20.0"
      ]
     },
     "execution_count": 30,
     "metadata": {},
     "output_type": "execute_result"
    }
   ],
   "source": [
    "# Convert 'amount' column to numeric\n",
    "df['amount'] = pd.to_numeric(df['amount'], errors='coerce')\n",
    "df"
   ]
  },
  {
   "cell_type": "code",
   "execution_count": 60,
   "id": "bc5edc6a",
   "metadata": {},
   "outputs": [
    {
     "data": {
      "text/html": [
       "<div>\n",
       "<style scoped>\n",
       "    .dataframe tbody tr th:only-of-type {\n",
       "        vertical-align: middle;\n",
       "    }\n",
       "\n",
       "    .dataframe tbody tr th {\n",
       "        vertical-align: top;\n",
       "    }\n",
       "\n",
       "    .dataframe thead th {\n",
       "        text-align: right;\n",
       "    }\n",
       "</style>\n",
       "<table border=\"1\" class=\"dataframe\">\n",
       "  <thead>\n",
       "    <tr style=\"text-align: right;\">\n",
       "      <th></th>\n",
       "      <th>transaction_id</th>\n",
       "      <th>date</th>\n",
       "      <th>category</th>\n",
       "      <th>amount</th>\n",
       "    </tr>\n",
       "  </thead>\n",
       "  <tbody>\n",
       "    <tr>\n",
       "      <th>0</th>\n",
       "      <td>TRX001</td>\n",
       "      <td>2024-06-01</td>\n",
       "      <td>Food</td>\n",
       "      <td>25.0</td>\n",
       "    </tr>\n",
       "    <tr>\n",
       "      <th>1</th>\n",
       "      <td>TRX002</td>\n",
       "      <td>2024-06-01</td>\n",
       "      <td>Utilities</td>\n",
       "      <td>150.0</td>\n",
       "    </tr>\n",
       "    <tr>\n",
       "      <th>2</th>\n",
       "      <td>TRX003</td>\n",
       "      <td>2024-06-01</td>\n",
       "      <td>Entertainment</td>\n",
       "      <td>200.0</td>\n",
       "    </tr>\n",
       "    <tr>\n",
       "      <th>3</th>\n",
       "      <td>TRX004</td>\n",
       "      <td>2024-06-02</td>\n",
       "      <td>Food</td>\n",
       "      <td>3000.0</td>\n",
       "    </tr>\n",
       "    <tr>\n",
       "      <th>4</th>\n",
       "      <td>TRX005</td>\n",
       "      <td>2024-06-02</td>\n",
       "      <td>Transport</td>\n",
       "      <td>45.0</td>\n",
       "    </tr>\n",
       "  </tbody>\n",
       "</table>\n",
       "</div>"
      ],
      "text/plain": [
       "  transaction_id       date       category  amount\n",
       "0         TRX001 2024-06-01           Food    25.0\n",
       "1         TRX002 2024-06-01      Utilities   150.0\n",
       "2         TRX003 2024-06-01  Entertainment   200.0\n",
       "3         TRX004 2024-06-02           Food  3000.0\n",
       "4         TRX005 2024-06-02      Transport    45.0"
      ]
     },
     "execution_count": 60,
     "metadata": {},
     "output_type": "execute_result"
    }
   ],
   "source": [
    "# Convert 'date' column to datetime\n",
    "df['date'] = pd.to_datetime(df['date'])\n",
    "df.head()"
   ]
  },
  {
   "cell_type": "markdown",
   "id": "245a958c",
   "metadata": {},
   "source": [
    "# DATA VISUALIZATION"
   ]
  },
  {
   "cell_type": "code",
   "execution_count": 41,
   "id": "8da37b11",
   "metadata": {},
   "outputs": [],
   "source": [
    "# Function to calculate mean and standard deviation for each category\n",
    "def calculate_category_stats(df):\n",
    "    category_stats = df.groupby('category')['amount'].agg(['mean', 'std']).reset_index()\n",
    "    return category_stats"
   ]
  },
  {
   "cell_type": "code",
   "execution_count": 63,
   "id": "355c0537",
   "metadata": {},
   "outputs": [],
   "source": [
    "# Function to visualize data distribution\n",
    "def visualize_data1(df, category_stats):\n",
    "    plt.figure(figsize=(16, 12))\n",
    "    \n",
    "    # Boxplot\n",
    "    plt.subplot(2, 2, 1)\n",
    "    sns.boxplot(x='category', y='amount', data=df)\n",
    "    plt.title('Boxplot of Transaction Amounts by Category')\n",
    "    plt.xlabel('Category')\n",
    "    plt.ylabel('Transaction Amount')\n",
    "    \n",
    "    # Violin plot\n",
    "    plt.subplot(2, 2, 2)\n",
    "    sns.violinplot(x='category', y='amount', data=df)\n",
    "    plt.title('Violin Plot of Transaction Amounts by Category')\n",
    "    plt.xlabel('Category')\n",
    "    plt.ylabel('Transaction Amount')\n",
    "    \n",
    "    # Swarmplot\n",
    "    plt.subplot(2, 2, 3)\n",
    "    sns.swarmplot(x='category', y='amount', data=df, color='black', alpha=0.5)\n",
    "    plt.title('Swarm Plot of Transaction Amounts by Category')\n",
    "    plt.xlabel('Category')\n",
    "    plt.ylabel('Transaction Amount')\n",
    "    \n",
    "    # Scatter plot with mean values\n",
    "    plt.subplot(2, 2, 4)\n",
    "    sns.scatterplot(x='category', y='amount', data=df, color='blue', alpha=0.7)\n",
    "    for index, row in category_stats.iterrows():\n",
    "        plt.scatter(index, row['mean'], color='red', marker='o', s=100, label='Mean')\n",
    "    plt.title('Scatter Plot with Mean Transaction Amounts by Category')\n",
    "    plt.xlabel('Category')\n",
    "    plt.ylabel('Transaction Amount')\n",
    "    plt.legend()\n",
    "    \n",
    "    plt.tight_layout()\n",
    "    plt.show()\n"
   ]
  },
  {
   "cell_type": "code",
   "execution_count": 64,
   "id": "ce3de02b",
   "metadata": {},
   "outputs": [],
   "source": [
    "# Calculate category statistics\n",
    "category_stats = calculate_category_stats(df)"
   ]
  },
  {
   "cell_type": "code",
   "execution_count": 65,
   "id": "348a79c6",
   "metadata": {},
   "outputs": [
    {
     "data": {
      "image/png": "[encoded data removed]",
      "text/plain": [
       "<Figure size 1152x864 with 4 Axes>"
      ]
     },
     "metadata": {
      "needs_background": "light"
     },
     "output_type": "display_data"
    }
   ],
   "source": [
    "# Visualize data distribution\n",
    "visualize_data1(df, category_stats)"
   ]
  },
  {
   "cell_type": "markdown",
   "id": "7988d403",
   "metadata": {},
   "source": [
    "# CALCULATION"
   ]
  },
  {
   "cell_type": "code",
   "execution_count": 46,
   "id": "c4df12c4",
   "metadata": {},
   "outputs": [],
   "source": [
    "# Function to detect anomalies\n",
    "def detect_anomalies(df, category_stats):\n",
    "    anomalies = []\n",
    "    for index, row in df.iterrows():\n",
    "        category = row['category']\n",
    "        amount = row['amount']\n",
    "        mean = category_stats.loc[category_stats['category'] == category, 'mean'].values[0]\n",
    "        std_dev = category_stats.loc[category_stats['category'] == category, 'std'].values[0]\n",
    "        \n",
    "        # Calculate Z-score\n",
    "        z_score = (amount - mean) / std_dev\n",
    "        \n",
    "        # Define a threshold (e.g., 3 standard deviations)\n",
    "        threshold = 3\n",
    "        \n",
    "        if np.abs(z_score) > threshold:\n",
    "            anomalies.append({\n",
    "                'transaction_id': row['transaction_id'],\n",
    "                'date': row['date'],\n",
    "                'category': category,\n",
    "                'amount': amount,\n",
    "                'reason_for_anomaly': f'{np.abs(z_score)} standard deviations from the mean'\n",
    "            })\n",
    "    return anomalies\n"
   ]
  },
  {
   "cell_type": "code",
   "execution_count": 47,
   "id": "60b0283d",
   "metadata": {},
   "outputs": [],
   "source": [
    "# Function to generate anomaly report\n",
    "def generate_anomaly_report(anomalies):\n",
    "    print(\"Detected Anomalies:\")\n",
    "    for anomaly in anomalies:\n",
    "        print(f\"Transaction ID: {anomaly['transaction_id']}\")\n",
    "        print(f\"Date: {anomaly['date']}\")\n",
    "        print(f\"Category: {anomaly['category']}\")\n",
    "        print(f\"Amount: {anomaly['amount']}\")\n",
    "        print(f\"Reason: {anomaly['reason_for_anomaly']}\")\n",
    "        print(\"------------------------\")\n",
    "    print(f\"Total anomalies detected: {len(anomalies)}\")"
   ]
  },
  {
   "cell_type": "code",
   "execution_count": 50,
   "id": "eb823b77",
   "metadata": {},
   "outputs": [],
   "source": [
    "# Function to visualize data distribution and anomalies\n",
    "def visualize_data(df, category_stats, anomalies):\n",
    "    plt.figure(figsize=(14, 8))\n",
    "    \n",
    "    # Plot boxplot for each category\n",
    "    plt.subplot(2, 1, 1)\n",
    "    sns.boxplot(x='category', y='amount', data=df)\n",
    "    plt.title('Boxplot of Transaction Amounts by Category')\n",
    "    \n",
    "    # Highlight anomalies on the boxplot\n",
    "    for anomaly in anomalies:\n",
    "        category = anomaly['category']\n",
    "        amount = anomaly['amount']\n",
    "        plt.plot(category_stats.loc[category_stats['category'] == category, 'mean'], \n",
    "                 marker='o', markersize=10, color='red')\n",
    "        plt.text(x=len(category_stats[category_stats['category'] == category]), \n",
    "                 y=amount, s=f\"{anomaly['transaction_id']}\\n({anomaly['reason_for_anomaly']})\", color='red')\n",
    "          # Plot histogram for transaction amounts\n",
    "    plt.subplot(2, 1, 2)\n",
    "    plt.hist(df['amount'], bins=20, edgecolor='black', alpha=0.7)\n",
    "    plt.title('Histogram of Transaction Amounts')\n",
    "    plt.xlabel('Transaction Amount')\n",
    "    plt.ylabel('Frequency')\n",
    "    \n",
    "    plt.tight_layout()\n",
    "    plt.show()\n"
   ]
  },
  {
   "cell_type": "code",
   "execution_count": 51,
   "id": "d93521bd",
   "metadata": {},
   "outputs": [],
   "source": [
    "# Calculate category statistics\n",
    "category_stats = calculate_category_stats(df)\n"
   ]
  },
  {
   "cell_type": "code",
   "execution_count": 52,
   "id": "c04c3090",
   "metadata": {},
   "outputs": [
    {
     "name": "stdout",
     "output_type": "stream",
     "text": [
      "Detected Anomalies:\n",
      "Total anomalies detected: 0\n"
     ]
    }
   ],
   "source": [
    "# Detect anomalies and generate report\n",
    "anomalies = detect_anomalies(df, category_stats)\n",
    "generate_anomaly_report(anomalies)"
   ]
  },
  {
   "cell_type": "code",
   "execution_count": 53,
   "id": "0e279be3",
   "metadata": {},
   "outputs": [
    {
     "data": {
      "image/png": "[encoded data removed]",
      "text/plain": [
       "<Figure size 1008x576 with 2 Axes>"
      ]
     },
     "metadata": {
      "needs_background": "light"
     },
     "output_type": "display_data"
    }
   ],
   "source": [
    "# Visualize data distribution and anomalies\n",
    "visualize_data(df, category_stats, anomalies)"
   ]
  }
 ],
 "metadata": {
  "kernelspec": {
   "display_name": "Python 3 (ipykernel)",
   "language": "python",
   "name": "python3"
  },
  "language_info": {
   "codemirror_mode": {
    "name": "ipython",
    "version": 3
   },
   "file_extension": ".py",
   "mimetype": "text/x-python",
   "name": "python",
   "nbconvert_exporter": "python",
   "pygments_lexer": "ipython3",
   "version": "3.9.7"
  }
 },
 "nbformat": 4,
 "nbformat_minor": 5
}
