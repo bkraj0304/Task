{
 "cells": [
  {
   "cell_type": "code",
   "execution_count": 14,
   "id": "ef51880c",
   "metadata": {},
   "outputs": [],
   "source": [
    "# importing Libraries\n",
    "import pandas as pd\n",
    "import matplotlib.pyplot as plt\n",
    "from math import radians, sin, cos, sqrt, atan2\n",
    "from datetime import datetime, timedelta\n"
   ]
  },
  {
   "cell_type": "code",
   "execution_count": 15,
   "id": "556355b8",
   "metadata": {},
   "outputs": [],
   "source": [
    "# Sample data (replace with actual data retrieval code)\n",
    "voyages_data = [\n",
    "    {'id': 1, 'event': 'SOSP', 'dateStamp': 43831, 'timeStamp': 0.708333, 'voyage_From': 'Port A', 'lat': 34.0522, 'lon': -118.2437, 'imo_num': '9434761', 'voyage_Id': '6', 'allocatedVoyageId': None},\n",
    "    {'id': 2, 'event': 'EOSP', 'dateStamp': 43831, 'timeStamp': 0.791667, 'voyage_From': 'Port A', 'lat': 34.0522, 'lon': -118.2437, 'imo_num': '9434761', 'voyage_Id': '6', 'allocatedVoyageId': None},\n",
    "    {'id': 3, 'event': 'SOSP', 'dateStamp': 43832, 'timeStamp': 0.333333, 'voyage_From': 'Port B', 'lat': 36.7783, 'lon': -119.4179, 'imo_num': '9434761', 'voyage_Id': '6', 'allocatedVoyageId': None},\n",
    "    {'id': 4, 'event': 'EOSP', 'dateStamp': 43832, 'timeStamp': 0.583333, 'voyage_From': 'Port B', 'lat': 36.7783, 'lon': -119.4179, 'imo_num': '9434761', 'voyage_Id': '6', 'allocatedVoyageId': None}\n",
    "]\n"
   ]
  },
  {
   "cell_type": "code",
   "execution_count": 16,
   "id": "325ecf62",
   "metadata": {},
   "outputs": [],
   "source": [
    "# Convert sample data into a pandas DataFrame\n",
    "voyages_df = pd.DataFrame(voyages_data)"
   ]
  },
  {
   "cell_type": "code",
   "execution_count": 17,
   "id": "87aae609",
   "metadata": {},
   "outputs": [],
   "source": [
    "# Function to convert dateStamp and timeStamp to UTC datetime\n",
    "def convert_to_utc_datetime(row):\n",
    "    dateStamp = row['dateStamp']\n",
    "    timeStamp = row['timeStamp']\n",
    "    unix_time = (dateStamp - 25569) * 86400 + timeStamp * 86400\n",
    "    return datetime.utcfromtimestamp(unix_time)"
   ]
  },
  {
   "cell_type": "code",
   "execution_count": 18,
   "id": "bd217f40",
   "metadata": {},
   "outputs": [],
   "source": [
    "# Apply function to convert dateStamp and timeStamp to UTC datetime\n",
    "voyages_df['utc_datetime'] = voyages_df.apply(convert_to_utc_datetime, axis=1)\n"
   ]
  },
  {
   "cell_type": "code",
   "execution_count": 19,
   "id": "f4295119",
   "metadata": {},
   "outputs": [],
   "source": [
    "# Function to calculate duration in seconds between events\n",
    "def calculate_duration(row):\n",
    "    current_utc = row['utc_datetime']\n",
    "    next_utc = voyages_df.loc[row.name + 1, 'utc_datetime'] if row.name + 1 < len(voyages_df) else current_utc\n",
    "    return (next_utc - current_utc).total_seconds()"
   ]
  },
  {
   "cell_type": "code",
   "execution_count": 21,
   "id": "5b9ab872",
   "metadata": {},
   "outputs": [],
   "source": [
    "# Apply function to calculate duration between events\n",
    "voyages_df['duration_seconds'] = voyages_df.apply(calculate_duration, axis=1)"
   ]
  },
  {
   "cell_type": "code",
   "execution_count": 22,
   "id": "0842eb3a",
   "metadata": {},
   "outputs": [],
   "source": [
    "# Calculate 'next_event' and 'next_utc_datetime'\n",
    "voyages_df['next_event'] = voyages_df['event'].shift(-1)\n",
    "voyages_df['next_utc_datetime'] = voyages_df['utc_datetime'].shift(-1)"
   ]
  },
  {
   "cell_type": "code",
   "execution_count": 24,
   "id": "f265e783",
   "metadata": {},
   "outputs": [
    {
     "name": "stdout",
     "output_type": "stream",
     "text": [
      "Total Sailing Time (seconds): 28800.0576\n",
      "Total Port Stay Time (seconds): 46799.9424\n"
     ]
    }
   ],
   "source": [
    "# Filter and calculate sailing time and port stay time\n",
    "sailing_time_seconds = voyages_df[(voyages_df['event'] == 'SOSP') & (voyages_df['next_event'] == 'EOSP')]['duration_seconds'].sum()\n",
    "port_stay_time_seconds = voyages_df[(voyages_df['event'] == 'EOSP') & (voyages_df['next_event'] == 'SOSP')]['duration_seconds'].sum()\n",
    "\n",
    "print(\"Total Sailing Time (seconds):\", sailing_time_seconds)\n",
    "print(\"Total Port Stay Time (seconds):\", port_stay_time_seconds)\n"
   ]
  },
  {
   "cell_type": "code",
   "execution_count": 26,
   "id": "bc3fc48e",
   "metadata": {},
   "outputs": [],
   "source": [
    "# Function to calculate distance between two geographic coordinates using Haversine formula\n",
    "def calculate_distance(lat1, lon1, lat2, lon2):\n",
    "    try:\n",
    "        # Convert latitude and longitude from degrees to radians\n",
    "        lat1, lon1, lat2, lon2 = map(radians, [lat1, lon1, lat2, lon2])\n",
    "        \n",
    "        # Haversine formula\n",
    "        dlon = lon2 - lon1\n",
    "        dlat = lat2 - lat1\n",
    "        a = sin(dlat/2)**2 + cos(lat1) * cos(lat2) * sin(dlon/2)**2\n",
    "        c = 2 * atan2(sqrt(a), sqrt(1 - a))\n",
    "        radius = 6371  # Radius of the Earth in kilometers\n",
    "        distance = radius * c\n",
    "        \n",
    "        return distance\n",
    "    \n",
    "    except Exception as e:\n",
    "        print(f\"Error calculating distance: {str(e)}\")\n",
    "        return None\n"
   ]
  },
  {
   "cell_type": "code",
   "execution_count": 28,
   "id": "e5f7d25e",
   "metadata": {},
   "outputs": [
    {
     "name": "stdout",
     "output_type": "stream",
     "text": [
      "Distance between Port A and Port B (km): 321.25354627586313\n"
     ]
    }
   ],
   "source": [
    "# Example usage with error handling\n",
    "distance_km = calculate_distance(34.0522, -118.2437, 36.7783, -119.4179)\n",
    "if distance_km is not None:\n",
    "    print(\"Distance between Port A and Port B (km):\", distance_km)\n",
    "else:\n",
    "    print(\"Invalid input. Please provide valid latitude and longitude.\")"
   ]
  },
  {
   "cell_type": "code",
   "execution_count": 30,
   "id": "f442c233",
   "metadata": {},
   "outputs": [
    {
     "data": {
      "image/png": "[encoded data removed]",
      "text/plain": [
       "<Figure size 864x432 with 1 Axes>"
      ]
     },
     "metadata": {
      "needs_background": "light"
     },
     "output_type": "display_data"
    }
   ],
   "source": [
    "# Plotting timeline of events and durations\n",
    "plt.figure(figsize=(12, 6))\n",
    "\n",
    "# Plot events as points\n",
    "plt.plot(voyages_df['utc_datetime'], voyages_df['event'], marker='o', linestyle='', label='Events')\n",
    "\n",
    "# Plot durations as bars\n",
    "for idx, row in voyages_df.iterrows():\n",
    "    plt.barh(row['event'], row['duration_seconds'], left=row['utc_datetime'], color='lightblue')\n",
    "\n",
    "plt.xlabel('UTC Datetime')\n",
    "plt.ylabel('Event')\n",
    "plt.title('Timeline of Events and Durations')\n",
    "plt.legend()\n",
    "plt.tight_layout()\n",
    "plt.show()\n"
   ]
  }
 ],
 "metadata": {
  "kernelspec": {
   "display_name": "Python 3 (ipykernel)",
   "language": "python",
   "name": "python3"
  },
  "language_info": {
   "codemirror_mode": {
    "name": "ipython",
    "version": 3
   },
   "file_extension": ".py",
   "mimetype": "text/x-python",
   "name": "python",
   "nbconvert_exporter": "python",
   "pygments_lexer": "ipython3",
   "version": "3.9.7"
  }
 },
 "nbformat": 4,
 "nbformat_minor": 5
}
